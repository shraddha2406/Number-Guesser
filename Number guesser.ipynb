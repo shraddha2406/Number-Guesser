{
 "cells": [
  {
   "cell_type": "code",
   "execution_count": 1,
   "id": "41f1f670",
   "metadata": {},
   "outputs": [
    {
     "name": "stdout",
     "output_type": "stream",
     "text": [
      "10\n",
      "Make a guess: 3\n",
      "Your guess is below the number!\n",
      "Make a guess: 5\n",
      "Your guess is above the number!\n",
      "Make a guess: 4\n",
      "You guessed correct!\n",
      "You got the correct answer in 3 guesses.\n"
     ]
    }
   ],
   "source": [
    "import random\n",
    "\n",
    "top_of_range= input()\n",
    "\n",
    "if top_of_range.isdigit():\n",
    "    top_of_range= int(top_of_range)\n",
    "    \n",
    "    if top_of_range<=0:\n",
    "        print(\"Enter a number greater than 0!\")\n",
    "        quit()\n",
    "else:\n",
    "    print(\"Oops! You must enter a number!\")\n",
    "    quit()\n",
    "    \n",
    "random_no=random.randint(0,top_of_range)\n",
    "\n",
    "guesses=0\n",
    "\n",
    "while True:\n",
    "    guesses+=1\n",
    "    \n",
    "    guess1=input(\"Make a guess: \")\n",
    "    \n",
    "    if guess1.isdigit():\n",
    "        guess1= int(guess1)\n",
    "    \n",
    "        if guess1<0:\n",
    "            print(\"Enter a number greater than 0!\")\n",
    "            quit()\n",
    "    else:\n",
    "        print(\"Oops! You must enter a number!\")\n",
    "        quit()\n",
    "        \n",
    "    if guess1==random_no:\n",
    "        print(\"You guessed correct!\")\n",
    "        print(\"You got the correct answer in \"+ str(guesses)+\" guesses.\" )\n",
    "        break\n",
    "    \n",
    "    elif guess1>random_no:\n",
    "        print(\"Your guess is above the number!\")\n",
    "        continue \n",
    "        \n",
    "    else:\n",
    "        print(\"Your guess is below the number!\")\n",
    "        continue\n",
    "        "
   ]
  },
  {
   "cell_type": "code",
   "execution_count": null,
   "id": "687c6401",
   "metadata": {},
   "outputs": [],
   "source": []
  },
  {
   "cell_type": "code",
   "execution_count": null,
   "id": "ca958c1f",
   "metadata": {},
   "outputs": [],
   "source": []
  }
 ],
 "metadata": {
  "kernelspec": {
   "display_name": "Python 3 (ipykernel)",
   "language": "python",
   "name": "python3"
  },
  "language_info": {
   "codemirror_mode": {
    "name": "ipython",
    "version": 3
   },
   "file_extension": ".py",
   "mimetype": "text/x-python",
   "name": "python",
   "nbconvert_exporter": "python",
   "pygments_lexer": "ipython3",
   "version": "3.9.7"
  }
 },
 "nbformat": 4,
 "nbformat_minor": 5
}
